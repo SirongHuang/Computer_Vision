{
 "cells": [
  {
   "cell_type": "code",
   "execution_count": 2,
   "metadata": {},
   "outputs": [],
   "source": [
    "# Description:\n",
    "#   Exercise7 notebook.\n",
    "#\n",
    "# Copyright (C) 2018 Santiago Cortes, Juha Ylioinas\n",
    "#\n",
    "# This software is distributed under the GNU General Public \n",
    "# Licence (version 2 or later); please refer to the file \n",
    "# Licence.txt, included with the software, for details.\n",
    "\n",
    "# Preparations\n",
    "import numpy as np\n",
    "import matplotlib.pyplot as plt"
   ]
  },
  {
   "cell_type": "markdown",
   "metadata": {},
   "source": [
    "# CS-E4850 Computer Vision Exercise Round 7"
   ]
  },
  {
   "cell_type": "markdown",
   "metadata": {},
   "source": [
    "## Exercise 1 - Comparing  bags-of-words  with  tf-idf  weighting\n",
    "Assume  that  we  have  an  indexed  collection  of  documents  containing  the  five  terms  {'cat', 'dot', 'mammals', 'mouse', 'pet'} and the percentages {5,20,2,10,60} about how many times they appear in the collection, respectively.<br>\n",
    "Now, given the query $Q=\\{mouse, cat, pet, mammals\\}$, compute the similarity between $Q$ and the following documents $D1$, $D2$, $D3$, by using the cosine similarity measure and tf-idf weights (i.e. term frequency - inverse document frequency) for the bag-of-words histogram representations of the documents and the query.\n",
    "\n",
    "-  $D1$ = Cat is a pet, dog is a pet, and mouse may be a pet too.\n",
    "-  $D2$ = Cat, dog and mouse are all mammals.\n",
    "-  $D3$ = Cat and dog get along well, but cat may eat a mouse.\n",
    "\n",
    "Ignore other words except the five terms. You may proceed with the following steps:\n",
    "\n",
    "a) Compute and report the inverse document frequency (idf) for each of the five terms. Use the logarithm with base 2. (idf is the logarithm on slide 69 of Lecture 6.)<br>\n",
    "b) Compute the term frequencies for the query and each document. <br>\n",
    "c) Form the tf-idf weighted word occurrence histograms for the query and documents. <br>\n",
    "d) Evaluate the cosine similarity between the query and each document (i.e.\\ normalized scalar product between the weighted occurrence histograms as shown on slide 45).<br> \n",
    "e) Report the relative ranking of the documents. (You should get similarities 0.95, 0.64, and 0.63, but you need to determine which corresponds to which document.)<br>"
   ]
  },
  {
   "cell_type": "code",
   "execution_count": 50,
   "metadata": {
    "scrolled": false
   },
   "outputs": [
    {
     "name": "stdout",
     "output_type": "stream",
     "text": [
      "a)\n",
      "Idf for cat is: 4.32192809489\n",
      "Idf for dot is: 2.32192809489\n",
      "Idf for mammals is: 5.64385618977\n",
      "Idf for mouse is: 3.32192809489\n",
      "Idf for pet is: 0.736965594166\n",
      "b)\n",
      "Tf for query is: [0.25, 0.0, 0.25, 0.25, 0.25]\n",
      "Tf for document 1 is: [0.2, 0.0, 0.0, 0.2, 0.6]\n",
      "Tf for document 2 is: [0.3333333333333333, 0.0, 0.3333333333333333, 0.3333333333333333, 0.0]\n",
      "Tf for document 3 is: [0.6666666666666666, 0.0, 0.0, 0.3333333333333333, 0.0]\n",
      "c)\n",
      "Tf-idf for query is: [1.0804820237218407, 0.0, 1.410964047443681, 0.8304820237218405, 0.18424139854155155]\n",
      "Tf-idf for document 1 is: [0.8643856189774726, 0.0, 0.0, 0.6643856189774725, 0.44217935649972373]\n",
      "Tf-idf for document 2 is: [1.4406426982957874, 0.0, 1.8812853965915748, 1.107309364962454, 0.0]\n",
      "Tf-idf for document 3 is: [2.881285396591575, 0.0, 0.0, 1.107309364962454, 0.0]\n",
      "d)\n",
      "Cosine similarity between query and document 1 is 0.676104768333\n",
      "Cosine similarity between query and document 2 is 0.995618206113\n",
      "Cosine similarity between query and document 3 is 0.663104926879\n",
      "d)\n",
      "The relative ranking of the documents are D2 > D1 > D3\n"
     ]
    },
    {
     "data": {
      "image/png": "[encoded data removed]",
      "text/plain": [
       "<Figure size 1152x288 with 4 Axes>"
      ]
     },
     "metadata": {
      "needs_background": "light"
     },
     "output_type": "display_data"
    }
   ],
   "source": [
    "## Comparing  bags-of-words  with  tf-idf  weighting\n",
    "##--your-code-starts-here--##\n",
    "names = [\"query\",\"document 1\",\"document 2\",\"document 3\"]\n",
    "\n",
    "### a) ###\n",
    "print(\"a)\")\n",
    "words = ['cat','dot','mammals','mouse','pet']\n",
    "df = [5,20,2,10,60]\n",
    "idf = []\n",
    "for i in range(len(df)):\n",
    "    # inverse document frequency \n",
    "    idf.append(np.log2(1.0/(df[i]*0.01)))\n",
    "    print(\"Idf for {} is: {}\".format(words[i],idf[i]))\n",
    "    \n",
    "### b) ###\n",
    "print(\"b)\")\n",
    "query = ['mouse','cat','pet','mammals']\n",
    "# split document into terms\n",
    "D1 = ['cat','pet','pet','mouse','pet']\n",
    "D2 = ['cat','mouse','mammals']\n",
    "D3 = ['cat','cat','mouse']\n",
    "# calculate the query term frequencies \n",
    "tf = []\n",
    "for i,d in enumerate([query,D1,D2,D3]):\n",
    "    tf_D = []\n",
    "    for word in words:\n",
    "        tf_D.append(d.count(word) / float(len(d)))\n",
    "    tf.append(tf_D)\n",
    "    print(\"Tf for {} is: {}\".format(names[i],tf_D))\n",
    "\n",
    "### c) ###\n",
    "print(\"c)\")\n",
    "# calculate the query term frequencies adjusted by inverse document frequencies\n",
    "fig,ax = plt.subplots(1,4,figsize=(16,4))\n",
    "\n",
    "tf_idf = []\n",
    "for i,d in enumerate([query,D1,D2,D3]):\n",
    "    tf_idf_D = []\n",
    "    for k,word in enumerate(words):\n",
    "        tf_idf_D.append(tf[i][k]*idf[k])\n",
    "    tf_idf.append(tf_idf_D)\n",
    "    \n",
    "    print(\"Tf-idf for {} is: {}\".format(names[i],tf_idf_D))\n",
    "    ax[i].bar(words,tf_idf_D)\n",
    "    ax[i].set_title(\"Tf-idf for {}\".format(names[i]))\n",
    "    \n",
    "### d) ###\n",
    "print(\"d)\")\n",
    "def cosine_similarity(a,b):\n",
    "    return np.dot(a,b)/(np.linalg.norm(a)*np.linalg.norm(b))\n",
    "for i in range(3):\n",
    "    score = cosine_similarity(tf_idf[0],tf_idf[i+1])\n",
    "    print(\"Cosine similarity between query and document {} is {}\".format(i+1,score))\n",
    "    \n",
    "### d) ###\n",
    "print(\"d)\")\n",
    "print(\"The relative ranking of the documents are D2 > D1 > D3\")\n",
    "##--your-code-ends-here--##\n",
    "df = [5,20,2,10,60]"
   ]
  },
  {
   "cell_type": "markdown",
   "metadata": {},
   "source": [
    "## Exercise 2 - Precision  and  recall\n",
    "There is a database of 10000 images and a user, who is only interested in images which contain a car. It is known that there are 500 such images in the database. An  automatic image retrieval system retrieves 300 car images and 50 other images from the database. Determine and report the precision and recall of the retrieval  system in this particularcase."
   ]
  },
  {
   "cell_type": "markdown",
   "metadata": {},
   "source": [
    "Type your answers here: \n",
    "<br>precision = 300/(300+50) = 0.8571\n",
    "<br>recall = 300/500 = 0.6"
   ]
  },
  {
   "cell_type": "markdown",
   "metadata": {},
   "source": [
    "## Exercise 3 - VGG practical on object instance recognition\n",
    "See the questions in part[1-3].ipynb and write your answers here.\n",
    "\n",
    "Part1:\n",
    "Stage I.A (two questions)\n",
    "Stage I.B (two questions)\n",
    "Stage I.C (one question)\n",
    "\n",
    "Part2 (one question)\n",
    "\n",
    "Part3:\n",
    "Stage III.A (three questions)\n",
    "Stage III.B (one question)\n",
    "Stage III.C (two questions)"
   ]
  },
  {
   "cell_type": "markdown",
   "metadata": {},
   "source": [
    "Type your answers here: \n",
    "\n",
    "<br> Part 1: \n",
    "<br> A -\n",
    "<br> Question 1: The shadowed side of the building has less detections than the bright side, and the edge between shadow and light has intense detections.The change is caused by the pixel intensity variations due to illumination discontinuity. It will be a problem for matching because it causes false feature detections, and the difference in detection density in shadow side, bright side, transition edge and flare spots. It can be avoided by using larger peakThreshold value to select features with higher contrast. This way the number of features detected is greatly reduced, and the most distinctive features are selected, so the effect of illumination discontinuity is reduced. \n",
    "\n",
    "<br> Question 2: Image structure with multiple dominant gradient orientations (>80% in gradient histogram) in a window is detected multiple times with different orientations assigned. Such structure can be any detection region in the image that has two or more distinct directions such as some carvings and designs on the architectures. \n",
    "\n",
    "<br> B -\n",
    "<br> Question 1: Because the descriptor need more information to ensure the keypoint descriptor is as distinctive as possible, and as robust as possible to scale, orientation, lighting and other variantions. For example, comparing the the two largest descriptors in the above image. If only looking at the detection region, these two featuers are very similar, but if looking at the larger descriptor regions, their orientation is now significantly different. This ensures that the interest points detected will have distinctive and unique descriptors to successfully match with the corresponding regions in other images.\n",
    "\n",
    "<br> Question 2: First of all, due to symmetric design, there are a lot of repetitive or similar features in those architecture images. It can be difficult to match those nearly identical feature descriptors. Lighting difference makes the problem even worse by introducing misleading variantions to already very similar descriptors. Also Nearest Neighbor Distance is sensitive to pixel intensity variations. \n",
    "\n",
    "We can calculate the Nearest Neighbor Distance Ratio between the best and second best nearest neighbor matches, and threshold it to remove ambiguous matches and select only the most distinctive matches. \n",
    "\n",
    "<br> C - \n",
    "<br> Question 1: The remaining mismatches can be caused by the lighting difference making some of the features appear to be similar and indistinguishable, or they can be caused by inherent similarity to other features, lack of distinctiveness, or noise. \n",
    "\n",
    "They could be removed by using RANSAC algorithm to fit a geometric transformation. And use the geometric transformation to reject outliers that doesn't confirm the transformation, and this should remove most of the mismatches.\n",
    "\n",
    "<br> Part 2: \n",
    "<br> SIFT detectors and descriptors are only describing small regions in the images, which can be viewed as under the effect of similarity transformation when the actual planer transformation is not extreme. \n",
    "\n",
    "Since SIFT descriptor is invariant to location, scale and orientation, it can describe such similarity transformation perfetly well. As the transformation becomes extreme, however, the small region's shape distortion becomes increasingly obvious, which cause the number of matches to decrease significantly. \n",
    "\n",
    "Therefore, within a certain level of planer transformation, SIFT detectors with only affine covariant matches and their corresponding SIFT descriptors can be matched to approximate the planer homography to a certain degree of accuracy. \n",
    "\n",
    "<br> Part 3: \n",
    "<br> A -\n",
    "<br> Question 1: The number of inliers and computation complexity both increase as the vocabulary size increases. But it is to be expected that after a certain threshold, too large vocabulary size will start causing overfitting and decrease in accuracy. \n",
    "\n",
    "Question 2: Because we are comparing the query time of finding matches using raw descriptors vesus quantized descriptors. To compare them in equal ground, the time spend converting descriptors into visual words is considered precomputed, since it only has to be done once when building the model and is not required at query time.\n",
    "\n",
    "Question 3: The runtime of searching matches vesus one image as shown above is 0.06585(raw descriptor) vs 0.021803(quantized descriptor), and the difference is 0.044047 seconds. Using this information, the speedup in searching 10, 100, and 1000 images are 0.44047, 4.4047 and 44.047 seconds respectively. \n",
    "\n",
    "<br> B -\n",
    "<br> Question 1: The top image is the query image itself. The reason that the similarity score is not one when comparing versus itself is that the quantization of database image descriptors is done in matlab using the VLfeat library, but the query image's quantized descriptor words is generated using a pyflann-based implementation. Due to the difference in quantization method implementations, the quantization result is also slightly different, so the score is not a perfect 1. If the query and database image are quantized using the same consistent method, the similarity score of query image versus itself should be 1.\n",
    "\n",
    "<br> C-\n",
    "<br> Question 1: The top score is larger than 1 because the new score is the number of inliers that matches the geometric transformation, so it should be an integer. \n",
    "\n",
    "Question 2: The retrieval is significantly improved with the top 11 out of 25 results all being correct matches, compared to the 2 incorrect matches that made it to the top 11 before geometric verification. \n"
   ]
  }
 ],
 "metadata": {
  "kernelspec": {
   "display_name": "Python [conda env:pyflann]",
   "language": "python",
   "name": "conda-env-pyflann-py"
  },
  "language_info": {
   "codemirror_mode": {
    "name": "ipython",
    "version": 2
   },
   "file_extension": ".py",
   "mimetype": "text/x-python",
   "name": "python",
   "nbconvert_exporter": "python",
   "pygments_lexer": "ipython2",
   "version": "2.7.15"
  },
  "toc": {
   "base_numbering": 1,
   "nav_menu": {},
   "number_sections": false,
   "sideBar": true,
   "skip_h1_title": false,
   "title_cell": "Table of Contents",
   "title_sidebar": "Contents",
   "toc_cell": false,
   "toc_position": {},
   "toc_section_display": true,
   "toc_window_display": false
  }
 },
 "nbformat": 4,
 "nbformat_minor": 2
}
